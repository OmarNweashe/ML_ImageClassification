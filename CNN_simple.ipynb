{
 "cells": [
  {
   "attachments": {},
   "cell_type": "markdown",
   "metadata": {},
   "source": [
    "**Cell 1**"
   ]
  },
  {
   "cell_type": "code",
   "execution_count": 1,
   "metadata": {},
   "outputs": [],
   "source": [
    "import tensorflow as tf\n",
    "from tensorflow import keras\n",
    "from keras.layers import Conv2D, MaxPooling2D, Flatten, Dense\n",
    "import matplotlib.pyplot as plt\n",
    "\n",
    "import glob\n",
    "\n",
    "import os\n",
    "from sklearn.model_selection import train_test_split\n",
    "import shutil"
   ]
  },
  {
   "attachments": {},
   "cell_type": "markdown",
   "metadata": {},
   "source": [
    "**Cell 2**"
   ]
  },
  {
   "cell_type": "code",
   "execution_count": 4,
   "metadata": {},
   "outputs": [
    {
     "name": "stdout",
     "output_type": "stream",
     "text": [
      "There are 12505 images of cats in the dataset\n",
      "There are 12499 images of dogs in the dataset\n",
      "There are 11788 images of birds in the dataset\n"
     ]
    }
   ],
   "source": [
    "print('There are {} images of cats in the dataset'.format(len(glob.glob('C:/Users/Gaurav Kharel/Desktop/Spring 2023/Machine Learning/Final_Project_CNN/PetImages/Cat/*jpg'))))\n",
    "print('There are {} images of dogs in the dataset'.format(len(glob.glob('C:/Users/Gaurav Kharel/Desktop/Spring 2023/Machine Learning/Final_Project_CNN/PetImages/Dog/*jpg'))))\n",
    "print('There are {} images of birds in the dataset'.format(len(glob.glob('C:/Users/Gaurav Kharel/Desktop/Spring 2023/Machine Learning/Final_Project_CNN/PetImages/Bird/*jpg'))))"
   ]
  },
  {
   "attachments": {},
   "cell_type": "markdown",
   "metadata": {},
   "source": [
    "**Cell 3**"
   ]
  },
  {
   "cell_type": "code",
   "execution_count": 5,
   "metadata": {},
   "outputs": [],
   "source": [
    "# Do not start and break thread when stepping and breaking\n",
    "\n",
    "# The path to my cats dataset folder\n",
    "dataset_path_cats = \"C:/Users/Gaurav Kharel/Desktop/Spring 2023/Machine Learning/Final_Project_CNN/PetImages/Cat\"\n",
    "\n",
    "# The path to my dogs dataset folder\n",
    "dataset_path_dogs = \"C:/Users/Gaurav Kharel/Desktop/Spring 2023/Machine Learning/Final_Project_CNN/PetImages/Dog\"\n",
    "\n",
    "# The path to birts dataset folder\n",
    "\n",
    "dataset_path_birds = \"C:/Users/Gaurav Kharel/Desktop/Spring 2023/Machine Learning/Final_Project_CNN/PetImages/Bird\"\n",
    "\n",
    "\n",
    "# The path to my output folder\n",
    "output_path = \"C:/Users/Gaurav Kharel/Desktop/Spring 2023/Machine Learning/Final_Project_CNN/PetImages_Split\"\n",
    "\n",
    "# defining the train, validation, and test ratio\n",
    "train_ratio = 0.8\n",
    "val_ratio = 0.1\n",
    "test_ratio = 0.1\n"
   ]
  },
  {
   "attachments": {},
   "cell_type": "markdown",
   "metadata": {},
   "source": [
    "**Cell 4**"
   ]
  },
  {
   "cell_type": "code",
   "execution_count": 6,
   "metadata": {},
   "outputs": [],
   "source": [
    "for dataset_path, animal in [(dataset_path_cats, \"cats\"), (dataset_path_dogs, \"dogs\"), (dataset_path_birds, \"birds\")]:\n",
    "    # getting the list of all image files in the dataset folder for the animal\n",
    "    image_files = [os.path.join(dataset_path, f) for f in os.listdir(dataset_path) if f.endswith(\".jpg\")]\n",
    "\n",
    "    # splitting the dataset into training, validation, and test sets for the animal\n",
    "    train_files, testval_files = train_test_split(image_files, train_size=train_ratio, random_state=42)\n",
    "    val_files, test_files = train_test_split(testval_files, train_size=val_ratio/(val_ratio+test_ratio), random_state=42)\n",
    "\n",
    "    # creating the output directories for the animal\n",
    "    os.makedirs(os.path.join(output_path, \"train\", animal), exist_ok=True)\n",
    "    os.makedirs(os.path.join(output_path, \"val\", animal), exist_ok=True)\n",
    "    os.makedirs(os.path.join(output_path, \"test\", animal), exist_ok=True)\n",
    "\n",
    "    # copying the training set to the output folder\n",
    "    for file in train_files:\n",
    "        shutil.copy(file, os.path.join(output_path, \"train\", animal, os.path.basename(file)))\n",
    "\n",
    "    # copying the validation set to the output folder\n",
    "    for file in val_files:\n",
    "        shutil.copy(file, os.path.join(output_path, \"val\", animal, os.path.basename(file)))\n",
    "\n",
    "    # copying the test set to the output folder\n",
    "    for file in test_files:\n",
    "        shutil.copy(file, os.path.join(output_path, \"test\", animal, os.path.basename(file)))"
   ]
  },
  {
   "attachments": {},
   "cell_type": "markdown",
   "metadata": {},
   "source": [
    "**Cell 5**"
   ]
  },
  {
   "cell_type": "code",
   "execution_count": 7,
   "metadata": {},
   "outputs": [],
   "source": [
    "#batch 50\n",
    "model = keras.Sequential([\n",
    "    Conv2D(32, (3,3), activation='relu', input_shape=(128, 128, 3)),\n",
    "    MaxPooling2D((2,2)),\n",
    "    Conv2D(64, (3,3), activation='relu'),\n",
    "    MaxPooling2D((2,2)),\n",
    "    Conv2D(64, (3,3), activation='relu'),\n",
    "    Conv2D(128, (3,3), activation='relu'),   # Addding one more for comparasion\n",
    "    Flatten(),\n",
    "    Dense(64, activation='relu'),           # Two fully connected layers\n",
    "    Dense(3, activation='softmax')\n",
    "])"
   ]
  },
  {
   "attachments": {},
   "cell_type": "markdown",
   "metadata": {},
   "source": [
    "**Cell 6**"
   ]
  },
  {
   "cell_type": "code",
   "execution_count": 8,
   "metadata": {},
   "outputs": [
    {
     "name": "stdout",
     "output_type": "stream",
     "text": [
      "Found 31240 images belonging to 3 classes.\n",
      "Found 4867 images belonging to 3 classes.\n",
      "Found 4851 images belonging to 3 classes.\n"
     ]
    }
   ],
   "source": [
    "train_datagen = tf.keras.preprocessing.image.ImageDataGenerator(rescale=1./255, \n",
    "                                   rotation_range=20, \n",
    "                                   width_shift_range=0.2, \n",
    "                                   height_shift_range=0.2, \n",
    "                                   shear_range=0.2, \n",
    "                                   zoom_range=0.2, \n",
    "                                   horizontal_flip=True)\n",
    "\n",
    "test_datagen = tf.keras.preprocessing.image.ImageDataGenerator(rescale=1./255)\n",
    "\n",
    "train_generator = train_datagen.flow_from_directory(os.path.join(output_path, \"train\"), \n",
    "                                                    target_size=(128, 128), \n",
    "                                                    batch_size=50, \n",
    "                                                    class_mode='categorical',\n",
    "                                                    shuffle=True)\n",
    "\n",
    "test_generator = test_datagen.flow_from_directory(os.path.join(output_path, \"test\"), \n",
    "                                                  target_size=(128, 128), \n",
    "                                                  batch_size=50, \n",
    "                                                  class_mode='categorical',\n",
    "                                                  shuffle=True)\n",
    "\n",
    "validation_generator = train_datagen.flow_from_directory(os.path.join(output_path, \"val\"), \n",
    "                                                        target_size=(128, 128), \n",
    "                                                        batch_size=50, \n",
    "                                                        class_mode='categorical',\n",
    "                                                        shuffle=True)\n"
   ]
  },
  {
   "attachments": {},
   "cell_type": "markdown",
   "metadata": {},
   "source": [
    "**Cell 7**"
   ]
  },
  {
   "cell_type": "code",
   "execution_count": 10,
   "metadata": {},
   "outputs": [
    {
     "name": "stderr",
     "output_type": "stream",
     "text": [
      "c:\\Users\\Gaurav Kharel\\AppData\\Local\\Programs\\Python\\Python311\\Lib\\site-packages\\PIL\\TiffImagePlugin.py:864: UserWarning: Truncated File Read\n",
      "  warnings.warn(str(msg))\n"
     ]
    }
   ],
   "source": [
    "\n",
    "from PIL import Image\n",
    "import os\n",
    "\n",
    "for root, dirs, files in os.walk(output_path):\n",
    "    for file in files:\n",
    "        try:\n",
    "            Image.open(os.path.join(root, file))\n",
    "        except Exception as e:\n",
    "            print(f\"Error opening {file}: {e}\")"
   ]
  },
  {
   "attachments": {},
   "cell_type": "markdown",
   "metadata": {},
   "source": [
    "**Cell 8**"
   ]
  },
  {
   "cell_type": "code",
   "execution_count": 11,
   "metadata": {},
   "outputs": [
    {
     "name": "stdout",
     "output_type": "stream",
     "text": [
      "Epoch 1/10\n",
      "625/625 [==============================] - 594s 948ms/step - loss: 0.8765 - accuracy: 0.5534 - val_loss: 0.8206 - val_accuracy: 0.5972\n",
      "Epoch 2/10\n",
      "625/625 [==============================] - 603s 964ms/step - loss: 0.7193 - accuracy: 0.6554 - val_loss: 0.6508 - val_accuracy: 0.7019\n",
      "Epoch 3/10\n",
      "625/625 [==============================] - 620s 991ms/step - loss: 0.6395 - accuracy: 0.7082 - val_loss: 0.6119 - val_accuracy: 0.7293\n",
      "Epoch 4/10\n",
      "625/625 [==============================] - 608s 973ms/step - loss: 0.5713 - accuracy: 0.7474 - val_loss: 0.4941 - val_accuracy: 0.7831\n",
      "Epoch 5/10\n",
      "625/625 [==============================] - 607s 971ms/step - loss: 0.5279 - accuracy: 0.7681 - val_loss: 0.5179 - val_accuracy: 0.7763\n",
      "Epoch 6/10\n",
      "625/625 [==============================] - 768s 1s/step - loss: 0.4804 - accuracy: 0.7935 - val_loss: 0.4513 - val_accuracy: 0.8089\n",
      "Epoch 7/10\n",
      "625/625 [==============================] - 658s 1s/step - loss: 0.4375 - accuracy: 0.8165 - val_loss: 0.4039 - val_accuracy: 0.8289\n",
      "Epoch 8/10\n",
      "625/625 [==============================] - 638s 1s/step - loss: 0.4004 - accuracy: 0.8325 - val_loss: 0.3992 - val_accuracy: 0.8376\n",
      "Epoch 9/10\n",
      "625/625 [==============================] - 656s 1s/step - loss: 0.3727 - accuracy: 0.8478 - val_loss: 0.4096 - val_accuracy: 0.8386\n",
      "Epoch 10/10\n",
      "625/625 [==============================] - 653s 1s/step - loss: 0.3491 - accuracy: 0.8602 - val_loss: 0.3519 - val_accuracy: 0.8561\n"
     ]
    }
   ],
   "source": [
    "model.compile(optimizer='adam',\n",
    "              loss='categorical_crossentropy',\n",
    "              metrics=['accuracy'])\n",
    "\n",
    "history = model.fit(train_generator, epochs=10, \n",
    "                    validation_data=validation_generator)"
   ]
  },
  {
   "attachments": {},
   "cell_type": "markdown",
   "metadata": {},
   "source": [
    "**Cell 9**"
   ]
  },
  {
   "cell_type": "code",
   "execution_count": 14,
   "metadata": {},
   "outputs": [
    {
     "name": "stdout",
     "output_type": "stream",
     "text": [
      "98/98 - 18s - loss: 0.3021 - accuracy: 0.8812 - 18s/epoch - 179ms/step\n"
     ]
    },
    {
     "data": {
      "image/png": "[encoded data removed]",
      "text/plain": [
       "<Figure size 640x480 with 1 Axes>"
      ]
     },
     "metadata": {},
     "output_type": "display_data"
    }
   ],
   "source": [
    "# Evaluating the model\n",
    "plt.plot(history.history['accuracy'], label='accuracy')\n",
    "plt.plot(history.history['val_accuracy'], label = 'val_accuracy')\n",
    "plt.xlabel('Epoch')\n",
    "plt.ylabel('Accuracy')\n",
    "plt.ylim([0.5, 1])\n",
    "plt.legend(loc='lower right')\n",
    "\n",
    "test_loss, test_acc = model.evaluate(test_generator, verbose=2)\n"
   ]
  },
  {
   "attachments": {},
   "cell_type": "markdown",
   "metadata": {},
   "source": [
    "**Cell 10**"
   ]
  },
  {
   "cell_type": "code",
   "execution_count": 15,
   "metadata": {},
   "outputs": [
    {
     "name": "stdout",
     "output_type": "stream",
     "text": [
      "0.8812410235404968\n"
     ]
    }
   ],
   "source": [
    "print(test_acc)"
   ]
  }
 ],
 "metadata": {
  "kernelspec": {
   "display_name": "base",
   "language": "python",
   "name": "python3"
  },
  "language_info": {
   "codemirror_mode": {
    "name": "ipython",
    "version": 3
   },
   "file_extension": ".py",
   "mimetype": "text/x-python",
   "name": "python",
   "nbconvert_exporter": "python",
   "pygments_lexer": "ipython3",
   "version": "3.11.2"
  },
  "orig_nbformat": 4,
  "vscode": {
   "interpreter": {
    "hash": "ad2bdc8ecc057115af97d19610ffacc2b4e99fae6737bb82f5d7fb13d2f2c186"
   }
  }
 },
 "nbformat": 4,
 "nbformat_minor": 2
}
