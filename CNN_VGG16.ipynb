{
 "cells": [
  {
   "cell_type": "code",
   "execution_count": 14,
   "metadata": {},
   "outputs": [],
   "source": [
    "import tensorflow as tf\n",
    "from tensorflow import keras\n",
    "from keras.layers import Conv2D, MaxPooling2D, Flatten, Dense, Dropout, BatchNormalization\n",
    "import matplotlib.pyplot as plt\n",
    "\n",
    "import glob\n",
    "\n",
    "import os\n",
    "from sklearn.model_selection import train_test_split\n",
    "import shutil"
   ]
  },
  {
   "cell_type": "code",
   "execution_count": 15,
   "metadata": {},
   "outputs": [
    {
     "name": "stdout",
     "output_type": "stream",
     "text": [
      "There are 12499 images of cats in the dataset\n",
      "There are 12499 images of dogs in the dataset\n",
      "There are 11788 images of birds in the dataset\n"
     ]
    }
   ],
   "source": [
    "print('There are {} images of cats in the dataset'.format(len(glob.glob('C:/Users/oobas/OneDrive/Desktop/Spring 2023/ML_project/PetImages/Cat/*jpg'))))\n",
    "print('There are {} images of dogs in the dataset'.format(len(glob.glob('C:/Users/oobas/OneDrive/Desktop/Spring 2023/ML_project/PetImages/Dog/*jpg'))))\n",
    "print('There are {} images of birds in the dataset'.format(len(glob.glob('C:/Users/oobas/OneDrive/Desktop/Spring 2023/ML_project/PetImages/Bird/*jpg'))))"
   ]
  },
  {
   "cell_type": "code",
   "execution_count": 16,
   "metadata": {},
   "outputs": [],
   "source": [
    "# Do not start and break thread when stepping and breaking\n",
    "\n",
    "# The path to my cats dataset folder\n",
    "dataset_path_cats = \"C:/Users/oobas/OneDrive/Desktop/Spring 2023/ML_project/PetImages/Cat\"\n",
    "\n",
    "# The path to my dogs dataset folder\n",
    "dataset_path_dogs = \"C:/Users/oobas/OneDrive/Desktop/Spring 2023/ML_project/PetImages/Dog\"\n",
    "\n",
    "# The path to birts dataset folder\n",
    "\n",
    "dataset_path_birds = \"C:/Users/oobas/OneDrive/Desktop/Spring 2023/ML_project/PetImages/Bird\"\n",
    "\n",
    "\n",
    "# The path to my output folder\n",
    "output_path = \"C:/Users/oobas/OneDrive/Desktop/Spring 2023/ML_project/PetImages_Split\"\n",
    "\n",
    "# defining the train, validation, and test ratio\n",
    "train_ratio = 0.8\n",
    "val_ratio = 0.1\n",
    "test_ratio = 0.1\n"
   ]
  },
  {
   "cell_type": "code",
   "execution_count": 17,
   "metadata": {},
   "outputs": [],
   "source": [
    "for dataset_path, animal in [(dataset_path_cats, \"cats\"), (dataset_path_dogs, \"dogs\"), (dataset_path_birds, \"birds\")]:\n",
    "    # getting the list of all image files in the dataset folder for the animal\n",
    "    image_files = [os.path.join(dataset_path, f) for f in os.listdir(dataset_path) if f.endswith(\".jpg\")]\n",
    "\n",
    "    # splitting the dataset into training, validation, and test sets for the animal\n",
    "    train_files, testval_files = train_test_split(image_files, train_size=train_ratio, random_state=42)\n",
    "    val_files, test_files = train_test_split(testval_files, test_size=val_ratio/(val_ratio+test_ratio), random_state=42)\n",
    "\n",
    "    # creating the output directories for the animal\n",
    "    os.makedirs(os.path.join(output_path, \"train\", animal), exist_ok=True)\n",
    "    os.makedirs(os.path.join(output_path, \"val\", animal), exist_ok=True)\n",
    "    os.makedirs(os.path.join(output_path, \"test\", animal), exist_ok=True)\n",
    "\n",
    "    # copying the training set to the output folder\n",
    "    for file in train_files:\n",
    "        shutil.copy(file, os.path.join(output_path, \"train\", animal, os.path.basename(file)))\n",
    "\n",
    "    # copying the validation set to the output folder\n",
    "    for file in val_files:\n",
    "        shutil.copy(file, os.path.join(output_path, \"val\", animal, os.path.basename(file)))\n",
    "\n",
    "    # copying the test set to the output folder\n",
    "    for file in test_files:\n",
    "        shutil.copy(file, os.path.join(output_path, \"test\", animal, os.path.basename(file)))"
   ]
  },
  {
   "cell_type": "code",
   "execution_count": 18,
   "metadata": {},
   "outputs": [],
   "source": [
    "test_dir = [\"C:/Users/oobas/OneDrive/Desktop/Spring 2023/ML_project/PetImages_Split/test/birds\", \"C:/Users/oobas/OneDrive/Desktop/Spring 2023/ML_project/PetImages_Split/test/cats\", \"C:/Users/oobas/OneDrive/Desktop/Spring 2023/ML_project/PetImages_Split/test/dogs\"]\n",
    "val_dir = [\"C:/Users/oobas/OneDrive/Desktop/Spring 2023/ML_project/PetImages_Split/val/birds\", \"C:/Users/oobas/OneDrive/Desktop/Spring 2023/ML_project/PetImages_Split/val/cats\", \"C:/Users/oobas/OneDrive/Desktop/Spring 2023/ML_project/PetImages_Split/val/dogs\"]\n",
    "train_dir = [\"C:/Users/oobas/OneDrive/Desktop/Spring 2023/ML_project/PetImages_Split/train/birds\", \"C:/Users/oobas/OneDrive/Desktop/Spring 2023/ML_project/PetImages_Split/train/cats\", \"C:/Users/oobas/OneDrive/Desktop/Spring 2023/ML_project/PetImages_Split/train/dogs\"]\n"
   ]
  },
  {
   "cell_type": "code",
   "execution_count": 23,
   "metadata": {},
   "outputs": [
    {
     "name": "stdout",
     "output_type": "stream",
     "text": [
      "Found 29428 images belonging to 3 classes.\n",
      "Found 3679 images belonging to 3 classes.\n",
      "Found 3679 images belonging to 3 classes.\n"
     ]
    }
   ],
   "source": [
    "import tensorflow as tf\n",
    "train_directories = [dataset_path_cats, dataset_path_dogs, dataset_path_birds]\n",
    "from tensorflow.keras.preprocessing.image import ImageDataGenerator\n",
    "train_b = ImageDataGenerator(preprocessing_function=tf.keras.applications.vgg16.preprocess_input) \n",
    "#\\.flow_from_directory(directory=train_dir, target_size=(224,224), classes = ['cat', 'dog', 'bird'], batch_size=32)\n",
    "val_b = ImageDataGenerator(preprocessing_function=tf.keras.applications.vgg16.preprocess_input) \n",
    "#\\.flow_from_directory(directory=val_dir, target_size=(224,224), classes = ['cat', 'dog', 'bird'], batch_size=32)\n",
    "test_b = ImageDataGenerator(preprocessing_function=tf.keras.applications.vgg16.preprocess_input)\n",
    "#\\.flow_from_directory(directory=test_dir, target_size=(224,224), classes = ['cat', 'dog', 'bird'], batch_size=32, shuffle = False)\n",
    "\n",
    "train_generator = train_b.flow_from_directory(os.path.join(output_path, \"train\"), \n",
    "                                                    target_size=(224,224), \n",
    "                                                    classes = ['cats', 'dogs', 'birds'],\n",
    "                                                    batch_size=32,\n",
    "                                                    class_mode='categorical')\n",
    "\n",
    "val_generator = val_b.flow_from_directory(os.path.join(output_path, \"val\"), \n",
    "                                                    target_size=(224,224), \n",
    "                                                    classes = ['cats', 'dogs', 'birds'],\n",
    "                                                    batch_size=32,\n",
    "                                                    class_mode='categorical')\n",
    "\n",
    "test_generator = test_b.flow_from_directory(os.path.join(output_path, \"test\"), \n",
    "                                                  target_size=(224,224), \n",
    "                                                    classes = ['cats', 'dogs', 'birds'],\n",
    "                                                    batch_size=32,\n",
    "                                                    class_mode='categorical',\n",
    "                                                    shuffle = False)"
   ]
  },
  {
   "cell_type": "code",
   "execution_count": 24,
   "metadata": {},
   "outputs": [
    {
     "name": "stdout",
     "output_type": "stream",
     "text": [
      "Downloading data from https://storage.googleapis.com/tensorflow/keras-applications/vgg16/vgg16_weights_tf_dim_ordering_tf_kernels.h5\n",
      "553467096/553467096 [==============================] - 32s 0us/step\n"
     ]
    }
   ],
   "source": [
    "vgg16_model = tf.keras.applications.vgg16.VGG16()"
   ]
  },
  {
   "cell_type": "code",
   "execution_count": 25,
   "metadata": {},
   "outputs": [
    {
     "name": "stdout",
     "output_type": "stream",
     "text": [
      "Model: \"vgg16\"\n",
      "_________________________________________________________________\n",
      " Layer (type)                Output Shape              Param #   \n",
      "=================================================================\n",
      " input_1 (InputLayer)        [(None, 224, 224, 3)]     0         \n",
      "                                                                 \n",
      " block1_conv1 (Conv2D)       (None, 224, 224, 64)      1792      \n",
      "                                                                 \n",
      " block1_conv2 (Conv2D)       (None, 224, 224, 64)      36928     \n",
      "                                                                 \n",
      " block1_pool (MaxPooling2D)  (None, 112, 112, 64)      0         \n",
      "                                                                 \n",
      " block2_conv1 (Conv2D)       (None, 112, 112, 128)     73856     \n",
      "                                                                 \n",
      " block2_conv2 (Conv2D)       (None, 112, 112, 128)     147584    \n",
      "                                                                 \n",
      " block2_pool (MaxPooling2D)  (None, 56, 56, 128)       0         \n",
      "                                                                 \n",
      " block3_conv1 (Conv2D)       (None, 56, 56, 256)       295168    \n",
      "                                                                 \n",
      " block3_conv2 (Conv2D)       (None, 56, 56, 256)       590080    \n",
      "                                                                 \n",
      " block3_conv3 (Conv2D)       (None, 56, 56, 256)       590080    \n",
      "                                                                 \n",
      " block3_pool (MaxPooling2D)  (None, 28, 28, 256)       0         \n",
      "                                                                 \n",
      " block4_conv1 (Conv2D)       (None, 28, 28, 512)       1180160   \n",
      "                                                                 \n",
      " block4_conv2 (Conv2D)       (None, 28, 28, 512)       2359808   \n",
      "                                                                 \n",
      " block4_conv3 (Conv2D)       (None, 28, 28, 512)       2359808   \n",
      "                                                                 \n",
      " block4_pool (MaxPooling2D)  (None, 14, 14, 512)       0         \n",
      "                                                                 \n",
      " block5_conv1 (Conv2D)       (None, 14, 14, 512)       2359808   \n",
      "                                                                 \n",
      " block5_conv2 (Conv2D)       (None, 14, 14, 512)       2359808   \n",
      "                                                                 \n",
      " block5_conv3 (Conv2D)       (None, 14, 14, 512)       2359808   \n",
      "                                                                 \n",
      " block5_pool (MaxPooling2D)  (None, 7, 7, 512)         0         \n",
      "                                                                 \n",
      " flatten (Flatten)           (None, 25088)             0         \n",
      "                                                                 \n",
      " fc1 (Dense)                 (None, 4096)              102764544 \n",
      "                                                                 \n",
      " fc2 (Dense)                 (None, 4096)              16781312  \n",
      "                                                                 \n",
      " predictions (Dense)         (None, 1000)              4097000   \n",
      "                                                                 \n",
      "=================================================================\n",
      "Total params: 138,357,544\n",
      "Trainable params: 138,357,544\n",
      "Non-trainable params: 0\n",
      "_________________________________________________________________\n"
     ]
    }
   ],
   "source": [
    "vgg16_model.summary()"
   ]
  },
  {
   "cell_type": "code",
   "execution_count": 26,
   "metadata": {},
   "outputs": [],
   "source": [
    "model = keras.Sequential()\n",
    "for layer in vgg16_model.layers[:-1]:\n",
    "    layer.trainable = False\n",
    "    model.add(layer)"
   ]
  },
  {
   "cell_type": "code",
   "execution_count": 27,
   "metadata": {},
   "outputs": [
    {
     "name": "stdout",
     "output_type": "stream",
     "text": [
      "Model: \"sequential\"\n",
      "_________________________________________________________________\n",
      " Layer (type)                Output Shape              Param #   \n",
      "=================================================================\n",
      " block1_conv1 (Conv2D)       (None, 224, 224, 64)      1792      \n",
      "                                                                 \n",
      " block1_conv2 (Conv2D)       (None, 224, 224, 64)      36928     \n",
      "                                                                 \n",
      " block1_pool (MaxPooling2D)  (None, 112, 112, 64)      0         \n",
      "                                                                 \n",
      " block2_conv1 (Conv2D)       (None, 112, 112, 128)     73856     \n",
      "                                                                 \n",
      " block2_conv2 (Conv2D)       (None, 112, 112, 128)     147584    \n",
      "                                                                 \n",
      " block2_pool (MaxPooling2D)  (None, 56, 56, 128)       0         \n",
      "                                                                 \n",
      " block3_conv1 (Conv2D)       (None, 56, 56, 256)       295168    \n",
      "                                                                 \n",
      " block3_conv2 (Conv2D)       (None, 56, 56, 256)       590080    \n",
      "                                                                 \n",
      " block3_conv3 (Conv2D)       (None, 56, 56, 256)       590080    \n",
      "                                                                 \n",
      " block3_pool (MaxPooling2D)  (None, 28, 28, 256)       0         \n",
      "                                                                 \n",
      " block4_conv1 (Conv2D)       (None, 28, 28, 512)       1180160   \n",
      "                                                                 \n",
      " block4_conv2 (Conv2D)       (None, 28, 28, 512)       2359808   \n",
      "                                                                 \n",
      " block4_conv3 (Conv2D)       (None, 28, 28, 512)       2359808   \n",
      "                                                                 \n",
      " block4_pool (MaxPooling2D)  (None, 14, 14, 512)       0         \n",
      "                                                                 \n",
      " block5_conv1 (Conv2D)       (None, 14, 14, 512)       2359808   \n",
      "                                                                 \n",
      " block5_conv2 (Conv2D)       (None, 14, 14, 512)       2359808   \n",
      "                                                                 \n",
      " block5_conv3 (Conv2D)       (None, 14, 14, 512)       2359808   \n",
      "                                                                 \n",
      " block5_pool (MaxPooling2D)  (None, 7, 7, 512)         0         \n",
      "                                                                 \n",
      " flatten (Flatten)           (None, 25088)             0         \n",
      "                                                                 \n",
      " fc1 (Dense)                 (None, 4096)              102764544 \n",
      "                                                                 \n",
      " fc2 (Dense)                 (None, 4096)              16781312  \n",
      "                                                                 \n",
      "=================================================================\n",
      "Total params: 134,260,544\n",
      "Trainable params: 0\n",
      "Non-trainable params: 134,260,544\n",
      "_________________________________________________________________\n"
     ]
    }
   ],
   "source": [
    "model.summary()"
   ]
  },
  {
   "cell_type": "code",
   "execution_count": 28,
   "metadata": {},
   "outputs": [],
   "source": [
    "model.add(Dense(3, activation='softmax'))"
   ]
  },
  {
   "cell_type": "code",
   "execution_count": 29,
   "metadata": {},
   "outputs": [
    {
     "name": "stdout",
     "output_type": "stream",
     "text": [
      "Model: \"sequential\"\n",
      "_________________________________________________________________\n",
      " Layer (type)                Output Shape              Param #   \n",
      "=================================================================\n",
      " block1_conv1 (Conv2D)       (None, 224, 224, 64)      1792      \n",
      "                                                                 \n",
      " block1_conv2 (Conv2D)       (None, 224, 224, 64)      36928     \n",
      "                                                                 \n",
      " block1_pool (MaxPooling2D)  (None, 112, 112, 64)      0         \n",
      "                                                                 \n",
      " block2_conv1 (Conv2D)       (None, 112, 112, 128)     73856     \n",
      "                                                                 \n",
      " block2_conv2 (Conv2D)       (None, 112, 112, 128)     147584    \n",
      "                                                                 \n",
      " block2_pool (MaxPooling2D)  (None, 56, 56, 128)       0         \n",
      "                                                                 \n",
      " block3_conv1 (Conv2D)       (None, 56, 56, 256)       295168    \n",
      "                                                                 \n",
      " block3_conv2 (Conv2D)       (None, 56, 56, 256)       590080    \n",
      "                                                                 \n",
      " block3_conv3 (Conv2D)       (None, 56, 56, 256)       590080    \n",
      "                                                                 \n",
      " block3_pool (MaxPooling2D)  (None, 28, 28, 256)       0         \n",
      "                                                                 \n",
      " block4_conv1 (Conv2D)       (None, 28, 28, 512)       1180160   \n",
      "                                                                 \n",
      " block4_conv2 (Conv2D)       (None, 28, 28, 512)       2359808   \n",
      "                                                                 \n",
      " block4_conv3 (Conv2D)       (None, 28, 28, 512)       2359808   \n",
      "                                                                 \n",
      " block4_pool (MaxPooling2D)  (None, 14, 14, 512)       0         \n",
      "                                                                 \n",
      " block5_conv1 (Conv2D)       (None, 14, 14, 512)       2359808   \n",
      "                                                                 \n",
      " block5_conv2 (Conv2D)       (None, 14, 14, 512)       2359808   \n",
      "                                                                 \n",
      " block5_conv3 (Conv2D)       (None, 14, 14, 512)       2359808   \n",
      "                                                                 \n",
      " block5_pool (MaxPooling2D)  (None, 7, 7, 512)         0         \n",
      "                                                                 \n",
      " flatten (Flatten)           (None, 25088)             0         \n",
      "                                                                 \n",
      " fc1 (Dense)                 (None, 4096)              102764544 \n",
      "                                                                 \n",
      " fc2 (Dense)                 (None, 4096)              16781312  \n",
      "                                                                 \n",
      " dense (Dense)               (None, 3)                 12291     \n",
      "                                                                 \n",
      "=================================================================\n",
      "Total params: 134,272,835\n",
      "Trainable params: 12,291\n",
      "Non-trainable params: 134,260,544\n",
      "_________________________________________________________________\n"
     ]
    }
   ],
   "source": [
    "model.summary()"
   ]
  },
  {
   "cell_type": "code",
   "execution_count": 33,
   "metadata": {},
   "outputs": [],
   "source": [
    "from tensorflow.keras.optimizers import Adam\n",
    "\n",
    "model.compile(optimizer=Adam(learning_rate=0.0001), loss='categorical_crossentropy', metrics=['accuracy'])"
   ]
  },
  {
   "cell_type": "code",
   "execution_count": null,
   "metadata": {},
   "outputs": [],
   "source": [
    "model.fit(x=train_generator, validation_data=val_generator, epochs=10, verbose=2)"
   ]
  },
  {
   "cell_type": "code",
   "execution_count": 10,
   "metadata": {},
   "outputs": [
    {
     "name": "stdout",
     "output_type": "stream",
     "text": [
      "Average width:  424.77630076659597\n",
      "Average height:  369.0134833904203\n"
     ]
    }
   ],
   "source": [
    "\n",
    "from PIL import Image\n",
    "import os\n",
    "from PIL import UnidentifiedImageError\n",
    "\n",
    "# The path to my cats dataset folder\n",
    "dataset_path_cats = \"C:/Users/oobas/OneDrive/Desktop/Spring 2023/ML_project/PetImages/Cat\"\n",
    "\n",
    "# The path to my dogs dataset folder\n",
    "dataset_path_dogs = \"C:/Users/oobas/OneDrive/Desktop/Spring 2023/ML_project/PetImages/Dog\"\n",
    "\n",
    "# The path to birts dataset folder\n",
    "\n",
    "dataset_path_birds = \"C:/Users/oobas/OneDrive/Desktop/Spring 2023/ML_project/PetImages/Bird\"\n",
    "paths = [dataset_path_cats, dataset_path_dogs, dataset_path_birds]\n",
    "# specify the directory containing the image dataset\n",
    "image_directory = \"/path/to/image/directory\"\n",
    "\n",
    "# create a list to store the width and height of each image\n",
    "widths = []\n",
    "heights = []\n",
    "\n",
    "for p in paths:\n",
    "    image_directory = p\n",
    "    # iterate over each image in the directory that ends with '.jpg'\n",
    "    for filename in os.listdir(image_directory):\n",
    "        if filename.endswith('.jpg'):\n",
    "                # load the image\n",
    "                image = Image.open(os.path.join(image_directory, filename))\n",
    "\n",
    "                # get the width and height of the image\n",
    "                width, height = image.size\n",
    "\n",
    "                # append the width and height to the corresponding lists\n",
    "                widths.append(width)\n",
    "                heights.append(height)\n",
    "        \n",
    "\n",
    "# calculate the average width and height of the image dataset\n",
    "avg_width = sum(widths) / len(widths)\n",
    "avg_height = sum(heights) / len(heights)\n",
    "\n",
    "print(\"Average width: \", avg_width)\n",
    "print(\"Average height: \", avg_height)"
   ]
  }
 ],
 "metadata": {
  "kernelspec": {
   "display_name": "Python 3",
   "language": "python",
   "name": "python3"
  },
  "language_info": {
   "codemirror_mode": {
    "name": "ipython",
    "version": 3
   },
   "file_extension": ".py",
   "mimetype": "text/x-python",
   "name": "python",
   "nbconvert_exporter": "python",
   "pygments_lexer": "ipython3",
   "version": "3.11.0"
  },
  "orig_nbformat": 4
 },
 "nbformat": 4,
 "nbformat_minor": 2
}
