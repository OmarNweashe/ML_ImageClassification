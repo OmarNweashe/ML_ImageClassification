{
 "cells": [
  {
   "attachments": {},
   "cell_type": "markdown",
   "metadata": {},
   "source": [
    "**Cell 1**"
   ]
  },
  {
   "cell_type": "code",
   "execution_count": 19,
   "metadata": {},
   "outputs": [],
   "source": [
    "import tensorflow as tf\n",
    "import matplotlib.pyplot as plt\n",
    "import glob\n",
    "import os\n",
    "from sklearn.model_selection import train_test_split\n",
    "import shutil\n",
    "import numpy as np"
   ]
  },
  {
   "attachments": {},
   "cell_type": "markdown",
   "metadata": {},
   "source": [
    "**Cell 2**"
   ]
  },
  {
   "cell_type": "code",
   "execution_count": 2,
   "metadata": {},
   "outputs": [
    {
     "name": "stdout",
     "output_type": "stream",
     "text": [
      "There are 0 images of cats in the dataset\n",
      "There are 0 images of dogs in the dataset\n",
      "There are 0 images of birds in the dataset\n"
     ]
    }
   ],
   "source": [
    "print('There are {} images of cats in the dataset'.format(len(glob.glob('C:/Users/pmoun/ML_FINAL_KNN/PetImages/Cat/*jpg'))))\n",
    "print('There are {} images of dogs in the dataset'.format(len(glob.glob('C:/Users/pmoun/ML_FINAL_KNN/PetImages/Dog/*jpg'))))\n",
    "print('There are {} images of birds in the dataset'.format(len(glob.glob('C:/Users/pmoun/ML_FINAL_KNN/PetImages/Bird/birds/*jpg'))))"
   ]
  },
  {
   "attachments": {},
   "cell_type": "markdown",
   "metadata": {},
   "source": [
    "**Cell 3**"
   ]
  },
  {
   "cell_type": "code",
   "execution_count": 3,
   "metadata": {},
   "outputs": [],
   "source": [
    "# Do not start and break thread when stepping and breaking\n",
    "\n",
    "# The path to my cats dataset folder\n",
    "dataset_path_cats = \"C:/Users/Gaurav Kharel/Desktop/Spring 2023/Machine Learning/Final_Project_CNN/PetImages/Cat\"\n",
    "\n",
    "# The path to my dogs dataset folder\n",
    "dataset_path_dogs = \"C:/Users/Gaurav Kharel/Desktop/Spring 2023/Machine Learning/Final_Project_CNN/PetImages/Dog\"\n",
    "\n",
    "# The path to birts dataset folder\n",
    "\n",
    "dataset_path_birds = \"C:/Users/Gaurav Kharel/Desktop/Spring 2023/Machine Learning/Final_Project_CNN/PetImages/Bird\"\n",
    "\n",
    "\n",
    "# The path to my output folder\n",
    "output_path = \"C:/Users/Gaurav Kharel/Desktop/Spring 2023/Machine Learning/Final_Project_CNN/PetImages_Split\"\n",
    "\n",
    "# defining the train, validation, and test ratio\n",
    "train_ratio = 0.8\n",
    "val_ratio = 0.1\n",
    "test_ratio = 0.1\n"
   ]
  },
  {
   "attachments": {},
   "cell_type": "markdown",
   "metadata": {},
   "source": [
    "**Cell 4**"
   ]
  },
  {
   "cell_type": "code",
   "execution_count": 4,
   "metadata": {},
   "outputs": [],
   "source": [
    "for dataset_path, animal in [(dataset_path_cats, \"cats\"), (dataset_path_dogs, \"dogs\"), (dataset_path_birds, \"birds\")]:\n",
    "    # getting the list of all image files in the dataset folder for the animal\n",
    "    image_files = [os.path.join(dataset_path, f) for f in os.listdir(dataset_path) if f.endswith(\".jpg\")]\n",
    "\n",
    "    # splitting the dataset into training, validation, and test sets for the animal\n",
    "    train_files, testval_files = train_test_split(image_files, train_size=train_ratio, random_state=42)\n",
    "    val_files, test_files = train_test_split(testval_files, train_size=val_ratio/(val_ratio+test_ratio), random_state=42)\n",
    "\n",
    "    # creating the output directories for the animal\n",
    "    os.makedirs(os.path.join(output_path, \"train\", animal), exist_ok=True)\n",
    "    os.makedirs(os.path.join(output_path, \"val\", animal), exist_ok=True)\n",
    "    os.makedirs(os.path.join(output_path, \"test\", animal), exist_ok=True)\n",
    "\n",
    "    # copying the training set to the output folder\n",
    "    for file in train_files:\n",
    "        shutil.copy(file, os.path.join(output_path, \"train\", animal, os.path.basename(file)))\n",
    "\n",
    "    # copying the validation set to the output folder\n",
    "    for file in val_files:\n",
    "        shutil.copy(file, os.path.join(output_path, \"val\", animal, os.path.basename(file)))\n",
    "\n",
    "    # copying the test set to the output folder\n",
    "    for file in test_files:\n",
    "        shutil.copy(file, os.path.join(output_path, \"test\", animal, os.path.basename(file)))"
   ]
  },
  {
   "attachments": {},
   "cell_type": "markdown",
   "metadata": {},
   "source": [
    "**Cell 5**"
   ]
  },
  {
   "cell_type": "code",
   "execution_count": 5,
   "metadata": {},
   "outputs": [
    {
     "name": "stderr",
     "output_type": "stream",
     "text": [
      "c:\\Users\\Gaurav Kharel\\AppData\\Local\\Programs\\Python\\Python311\\Lib\\site-packages\\PIL\\TiffImagePlugin.py:864: UserWarning: Truncated File Read\n",
      "  warnings.warn(str(msg))\n"
     ]
    }
   ],
   "source": [
    "from tensorflow.keras.utils import load_img, img_to_array\n",
    "import numpy as np\n",
    "from PIL import UnidentifiedImageError\n",
    "\n",
    "train_dir = \"C:/Users/Gaurav Kharel/Desktop/Spring 2023/Machine Learning/Final_Project_CNN/PetImages_Split/train\"\n",
    "test_dir = \"C:/Users/Gaurav Kharel/Desktop/Spring 2023/Machine Learning/Final_Project_CNN/PetImages_Split/test\"\n",
    "\n",
    "train_data = []\n",
    "train_labels = []\n",
    "for label, animal in enumerate(['cats', 'dogs', 'birds']):\n",
    "    for img_path in os.listdir(os.path.join(train_dir, animal)):\n",
    "        try:\n",
    "            img = load_img(os.path.join(train_dir, animal, img_path), target_size=(64, 64))\n",
    "            img = img_to_array(img)\n",
    "            img = img / 255.0  # normalizing the pixel values to be between 0 and 1\n",
    "            train_data.append(img)\n",
    "            train_labels.append(label)\n",
    "        except (UnidentifiedImageError, OSError):\n",
    "            print(f\"Skipping {img_path} due to an error\")\n",
    "\n",
    "\n",
    "train_data = np.array(train_data)\n",
    "train_labels = np.array(train_labels)\n",
    "\n",
    "# load and preprocess the test data\n",
    "test_data = []\n",
    "test_labels = []\n",
    "for label, animal in enumerate(['cats', 'dogs', 'birds']):\n",
    "    for img_path in os.listdir(os.path.join(test_dir, animal)):\n",
    "        try:\n",
    "            img = load_img(os.path.join(test_dir, animal, img_path), target_size=(64, 64))\n",
    "            img = img_to_array(img)\n",
    "            img = img / 255.0  # normalizing pixel values to be between 0 and 1\n",
    "            test_data.append(img)\n",
    "            test_labels.append(label)\n",
    "        except (UnidentifiedImageError, OSError):\n",
    "            print(f\"Skipping {img_path} due to an error\")\n",
    "\n",
    "test_data = np.array(test_data)\n",
    "test_labels = np.array(test_labels)\n"
   ]
  },
  {
   "attachments": {},
   "cell_type": "markdown",
   "metadata": {},
   "source": [
    "**Cell 6**"
   ]
  },
  {
   "cell_type": "code",
   "execution_count": 16,
   "metadata": {},
   "outputs": [],
   "source": [
    "val_dir = \"C:/Users/Gaurav Kharel/Desktop/Spring 2023/Machine Learning/Final_Project_CNN/PetImages_Split/val\"\n",
    "# For Validation\n",
    "val_data = []\n",
    "val_labels = []\n",
    "for label, animal in enumerate(['cats', 'dogs', 'birds']):\n",
    "    for img_path in os.listdir(os.path.join(val_dir, animal)):\n",
    "        try:\n",
    "            img = load_img(os.path.join(val_dir, animal, img_path), target_size=(64, 64))\n",
    "            img = img_to_array(img)\n",
    "            img = img / 255.0  # normalizing pixel values to be between 0 and 1\n",
    "            val_data.append(img)\n",
    "            val_labels.append(label)\n",
    "        except (UnidentifiedImageError, OSError):\n",
    "            print(f\"Skipping {img_path} due to an error\")\n",
    "\n",
    "val_data = np.array(val_data)\n",
    "val_labels = np.array(val_labels)"
   ]
  },
  {
   "attachments": {},
   "cell_type": "markdown",
   "metadata": {},
   "source": [
    "**Cell 7**"
   ]
  },
  {
   "cell_type": "code",
   "execution_count": 6,
   "metadata": {},
   "outputs": [],
   "source": [
    "def knn_predict(data, train, labels, k):\n",
    "    \"\"\"\n",
    "    Predicts a label for an animal image using the KNN model classification and ecludian distance algorithm\n",
    "\n",
    "    parameter: data -> numpy array with all images of the three animals that have not been classsified\n",
    "\n",
    "    parameter: train -> numpy array of images already classified\n",
    "\n",
    "    parameter: labels -> Holds the corresponding correct label for each image in the data parameter\n",
    "    \n",
    "    parameter: k -> Number of K nearest neighbors we will use for classification\n",
    "    \"\"\"\n",
    "    \n",
    "    data_labels = np.array([])\n",
    "    print(\"Start\")\n",
    "    for i in data:\n",
    "        distances = np.array([])\n",
    "\n",
    "        for j in train:\n",
    "            \n",
    "            dist = np.linalg.norm(i - j)\n",
    "            distances= np.append(distances, dist)\n",
    "\n",
    "        \n",
    "        indexes = []\n",
    "\n",
    "        min_index = np.argpartition(distances, k)\n",
    "        indexes.append(min_index[:k])\n",
    "\n",
    "        potential_labels = indexes[0:k]\n",
    "\n",
    "        unique_labels, counts = np.unique(potential_labels, return_counts=True)\n",
    "\n",
    "        classified_label_idx = np.argmax(counts)\n",
    "\n",
    "        classified_label = unique_labels[classified_label_idx]\n",
    "      \n",
    "        model_label = labels[classified_label]\n",
    "\n",
    "        data_labels = np.append(data_labels, model_label)\n",
    "        \n",
    "        \n",
    "    return data_labels"
   ]
  },
  {
   "attachments": {},
   "cell_type": "markdown",
   "metadata": {},
   "source": [
    "**Cell 8**"
   ]
  },
  {
   "cell_type": "code",
   "execution_count": 7,
   "metadata": {},
   "outputs": [
    {
     "name": "stdout",
     "output_type": "stream",
     "text": [
      "Start\n"
     ]
    }
   ],
   "source": [
    "temp = knn_predict(test_data, train_data, train_labels, 66)"
   ]
  },
  {
   "attachments": {},
   "cell_type": "markdown",
   "metadata": {},
   "source": [
    "**Cell 9**"
   ]
  },
  {
   "cell_type": "code",
   "execution_count": 8,
   "metadata": {},
   "outputs": [],
   "source": [
    "def accuracy(data_labels, test_labels):\n",
    "    err = 0\n",
    "    for i in range(len(data_labels)):\n",
    "        if data_labels[i] != test_labels[i]:\n",
    "            err = err + 1\n",
    "    \n",
    "    numLabels = data_labels.shape[0]\n",
    "\n",
    "    accuracy1 = (numLabels - err)/numLabels\n",
    "    return accuracy1\n"
   ]
  },
  {
   "attachments": {},
   "cell_type": "markdown",
   "metadata": {},
   "source": [
    "**Cell 10**"
   ]
  },
  {
   "cell_type": "code",
   "execution_count": 9,
   "metadata": {},
   "outputs": [
    {
     "name": "stdout",
     "output_type": "stream",
     "text": [
      "[0. 0. 0. ... 0. 0. 0.]\n",
      "The Classification accuracy is 0.3587425518800082\n"
     ]
    }
   ],
   "source": [
    "print(temp)\n",
    "acc = accuracy(temp, test_labels)\n",
    "print(f\"The Classification accuracy is {acc}\")"
   ]
  },
  {
   "attachments": {},
   "cell_type": "markdown",
   "metadata": {},
   "source": [
    "**Cell 11**"
   ]
  },
  {
   "cell_type": "code",
   "execution_count": 13,
   "metadata": {},
   "outputs": [
    {
     "name": "stdout",
     "output_type": "stream",
     "text": [
      "Start\n",
      "[0. 0. 0. ... 0. 0. 0.]\n",
      "The Classification accuracy is 0.34970207520032875\n"
     ]
    }
   ],
   "source": [
    "temp1 = knn_predict(test_data, train_data, train_labels, 200)\n",
    "print(temp1)\n",
    "acc1 = accuracy(temp1, test_labels)\n",
    "print(f\"The Classification accuracy is {acc1}\")"
   ]
  },
  {
   "attachments": {},
   "cell_type": "markdown",
   "metadata": {},
   "source": [
    "**Cell 12**"
   ]
  },
  {
   "cell_type": "code",
   "execution_count": null,
   "metadata": {},
   "outputs": [
    {
     "name": "stdout",
     "output_type": "stream",
     "text": [
      "Start\n",
      "[2. 1. 2. ... 2. 0. 2.]\n",
      "The Classification accuracy is 0.5096493612394672\n"
     ]
    }
   ],
   "source": [
    "temp2 = knn_predict(test_data, train_data, train_labels, 60)\n",
    "print(temp2)\n",
    "acc2 = accuracy(temp2, test_labels)\n",
    "print(f\"The Classification accuracy is {acc2}\")"
   ]
  },
  {
   "attachments": {},
   "cell_type": "markdown",
   "metadata": {},
   "source": [
    "**Cell 13**"
   ]
  },
  {
   "cell_type": "code",
   "execution_count": 14,
   "metadata": {},
   "outputs": [
    {
     "name": "stdout",
     "output_type": "stream",
     "text": [
      "Start\n",
      "[2. 0. 1. ... 2. 0. 2.]\n",
      "The Classification accuracy is 0.34970207520032875\n"
     ]
    }
   ],
   "source": [
    "temp3 = knn_predict(test_data, train_data, train_labels, 2)\n",
    "print(temp3)"
   ]
  },
  {
   "attachments": {},
   "cell_type": "markdown",
   "metadata": {},
   "source": [
    "**Cell 14**"
   ]
  },
  {
   "cell_type": "code",
   "execution_count": 17,
   "metadata": {},
   "outputs": [
    {
     "name": "stdout",
     "output_type": "stream",
     "text": [
      "The Classification accuracy is 0.6040682145058558\n"
     ]
    }
   ],
   "source": [
    "acc4 = accuracy(temp3, test_labels)\n",
    "print(f\"The Classification accuracy is {acc4}\")\n"
   ]
  },
  {
   "attachments": {},
   "cell_type": "markdown",
   "metadata": {},
   "source": [
    "**Cell 15**"
   ]
  },
  {
   "cell_type": "code",
   "execution_count": 18,
   "metadata": {},
   "outputs": [
    {
     "name": "stdout",
     "output_type": "stream",
     "text": [
      "Start\n",
      "[2. 0. 0. ... 2. 2. 2.]\n",
      "The Classification accuracy is 0.608740465883323\n"
     ]
    }
   ],
   "source": [
    "temp5 = knn_predict(val_data, train_data, train_labels, 2)\n",
    "print(temp5)\n",
    "acc5 = accuracy(temp5, val_labels)\n",
    "print(f\"The Classification accuracy is {acc5}\")\n"
   ]
  }
 ],
 "metadata": {
  "kernelspec": {
   "display_name": "Python 3",
   "language": "python",
   "name": "python3"
  },
  "language_info": {
   "codemirror_mode": {
    "name": "ipython",
    "version": 3
   },
   "file_extension": ".py",
   "mimetype": "text/x-python",
   "name": "python",
   "nbconvert_exporter": "python",
   "pygments_lexer": "ipython3",
   "version": "3.11.2"
  },
  "orig_nbformat": 4
 },
 "nbformat": 4,
 "nbformat_minor": 2
}
